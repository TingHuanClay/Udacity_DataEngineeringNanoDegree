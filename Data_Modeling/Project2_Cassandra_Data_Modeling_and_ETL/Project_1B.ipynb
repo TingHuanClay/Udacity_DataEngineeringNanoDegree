{
 "cells": [
  {
   "cell_type": "markdown",
   "metadata": {},
   "source": [
    "# Part I. ETL Pipeline for Pre-Processing the Files"
   ]
  },
  {
   "cell_type": "markdown",
   "metadata": {},
   "source": [
    "## PLEASE RUN THE FOLLOWING CODE FOR PRE-PROCESSING THE FILES"
   ]
  },
  {
   "cell_type": "markdown",
   "metadata": {},
   "source": [
    "#### Import Python packages "
   ]
  },
  {
   "cell_type": "code",
   "execution_count": 3,
   "metadata": {},
   "outputs": [],
   "source": [
    "# Import Python packages \n",
    "import pandas as pd\n",
    "import cassandra\n",
    "import re\n",
    "import os\n",
    "import glob\n",
    "import numpy as np\n",
    "import json\n",
    "import csv\n",
    "from prettytable import PrettyTable"
   ]
  },
  {
   "cell_type": "markdown",
   "metadata": {},
   "source": [
    "#### Creating list of filepaths to process original event csv data files"
   ]
  },
  {
   "cell_type": "code",
   "execution_count": 3,
   "metadata": {},
   "outputs": [
    {
     "name": "stdout",
     "output_type": "stream",
     "text": [
      "/home/workspace/event_data\n",
      "30\n"
     ]
    }
   ],
   "source": [
    "# checking current working directory\n",
    "#print(os.getcwd())\n",
    "\n",
    "# Get current folder and subfolder event data\n",
    "filepath = os.getcwd() + '/event_data'\n",
    "# print(filepath)\n",
    "\n",
    "# Create a for loop to create a list of files and collect each filepath\n",
    "for root, dirs, files in os.walk(filepath):\n",
    "# join the file path and roots with the subdirectories using glob\n",
    "    file_path_list = glob.glob(os.path.join(filepath,'*'))\n",
    "#     print(file_path_list)\n",
    "# print(len(file_path_list))"
   ]
  },
  {
   "cell_type": "markdown",
   "metadata": {},
   "source": [
    "#### Processing the files to create the data file csv that will be used for Apache Casssandra tables"
   ]
  },
  {
   "cell_type": "code",
   "execution_count": 110,
   "metadata": {},
   "outputs": [
    {
     "name": "stdout",
     "output_type": "stream",
     "text": [
      "30\n",
      "/home/workspace/event_data/2018-11-18-events.csv\n",
      "/home/workspace/event_data/2018-11-02-events.csv\n",
      "/home/workspace/event_data/2018-11-03-events.csv\n",
      "/home/workspace/event_data/2018-11-13-events.csv\n",
      "/home/workspace/event_data/2018-11-14-events.csv\n",
      "/home/workspace/event_data/2018-11-10-events.csv\n",
      "/home/workspace/event_data/2018-11-22-events.csv\n",
      "/home/workspace/event_data/2018-11-30-events.csv\n",
      "/home/workspace/event_data/2018-11-17-events.csv\n",
      "/home/workspace/event_data/2018-11-05-events.csv\n",
      "/home/workspace/event_data/2018-11-23-events.csv\n",
      "/home/workspace/event_data/2018-11-12-events.csv\n",
      "/home/workspace/event_data/2018-11-29-events.csv\n",
      "/home/workspace/event_data/2018-11-08-events.csv\n",
      "/home/workspace/event_data/2018-11-19-events.csv\n",
      "/home/workspace/event_data/2018-11-28-events.csv\n",
      "/home/workspace/event_data/2018-11-26-events.csv\n",
      "/home/workspace/event_data/2018-11-04-events.csv\n",
      "/home/workspace/event_data/2018-11-16-events.csv\n",
      "/home/workspace/event_data/2018-11-24-events.csv\n",
      "/home/workspace/event_data/2018-11-15-events.csv\n",
      "/home/workspace/event_data/2018-11-01-events.csv\n",
      "/home/workspace/event_data/2018-11-07-events.csv\n",
      "/home/workspace/event_data/2018-11-21-events.csv\n",
      "/home/workspace/event_data/2018-11-11-events.csv\n",
      "/home/workspace/event_data/2018-11-06-events.csv\n",
      "/home/workspace/event_data/2018-11-25-events.csv\n",
      "/home/workspace/event_data/2018-11-09-events.csv\n",
      "/home/workspace/event_data/2018-11-20-events.csv\n",
      "/home/workspace/event_data/2018-11-27-events.csv\n"
     ]
    }
   ],
   "source": [
    "# initiating an empty list of rows that will be generated from each file\n",
    "full_data_rows_list = [] \n",
    "print(len(file_path_list))\n",
    "try:    \n",
    "    # for every filepath in the file path list \n",
    "    for f in file_path_list:\n",
    "        print(f)\n",
    "    # reading csv file \n",
    "        with open(f, 'r', encoding = 'utf8', newline='') as csvfile: \n",
    "            # creating a csv reader object \n",
    "            csvreader = csv.reader(csvfile) \n",
    "            next(csvreader)\n",
    "\n",
    "     # extracting each data row one by one and append it        \n",
    "            for line in csvreader:\n",
    "                #print(line)\n",
    "                full_data_rows_list.append(line) \n",
    "\n",
    "    # uncomment the code below if you would like to get total number of rows \n",
    "    # print(len(full_data_rows_list))\n",
    "    # uncomment the code below if you would like to check to see what the list of event data rows will look like\n",
    "    # print(full_data_rows_list)\n",
    "\n",
    "    # creating a smaller event data csv file called event_datafile_full csv that will be used to insert data into the \\\n",
    "    # Apache Cassandra tables\n",
    "    csv.register_dialect('myDialect', quoting=csv.QUOTE_ALL, skipinitialspace=True)\n",
    "\n",
    "    with open('event_datafile_new.csv', 'w', encoding = 'utf8', newline='') as f:\n",
    "        writer = csv.writer(f, dialect='myDialect')\n",
    "        writer.writerow(['artist','firstName','gender','itemInSession','lastName','length',\\\n",
    "                    'level','location','sessionId','song','userId'])\n",
    "        for row in full_data_rows_list:\n",
    "            if (row[0] == ''):\n",
    "                continue\n",
    "            writer.writerow((row[0], row[2], row[3], row[4], row[5], row[6], row[7], row[8], row[12], row[13], row[16]))\n",
    "except Exception as e:\n",
    "    print(e)"
   ]
  },
  {
   "cell_type": "code",
   "execution_count": 111,
   "metadata": {},
   "outputs": [
    {
     "name": "stdout",
     "output_type": "stream",
     "text": [
      "6821\n"
     ]
    }
   ],
   "source": [
    "# check the number of rows in your csv file\n",
    "with open('event_datafile_new.csv', 'r', encoding = 'utf8') as f:\n",
    "    print(sum(1 for line in f))"
   ]
  },
  {
   "cell_type": "markdown",
   "metadata": {},
   "source": [
    "# Part II. Complete the Apache Cassandra coding portion of your project. \n",
    "\n",
    "## Now you are ready to work with the CSV file titled <font color=red>event_datafile_new.csv</font>, located within the Workspace directory.  The event_datafile_new.csv contains the following columns: \n",
    "- artist \n",
    "- firstName of user\n",
    "- gender of user\n",
    "- item number in session\n",
    "- last name of user\n",
    "- length of the song\n",
    "- level (paid or free song)\n",
    "- location of the user\n",
    "- sessionId\n",
    "- song title\n",
    "- userId\n",
    "\n",
    "The image below is a screenshot of what the denormalized data should appear like in the <font color=red>**event_datafile_new.csv**</font> after the code above is run:<br>\n",
    "\n",
    "<img src=\"images/image_event_datafile_new.jpg\">"
   ]
  },
  {
   "cell_type": "markdown",
   "metadata": {},
   "source": []
  },
  {
   "cell_type": "markdown",
   "metadata": {},
   "source": [
    "#### Creating a Cluster"
   ]
  },
  {
   "cell_type": "code",
   "execution_count": 4,
   "metadata": {},
   "outputs": [],
   "source": [
    "# This should make a connection to a Cassandra instance your local machine \n",
    "# (127.0.0.1)\n",
    "\n",
    "from cassandra.cluster import Cluster\n",
    "cluster = Cluster(['127.0.0.1'])\n",
    "\n",
    "# To establish connection and begin executing queries, need a session\n",
    "session = cluster.connect()"
   ]
  },
  {
   "cell_type": "markdown",
   "metadata": {},
   "source": [
    "#### Create Keyspace"
   ]
  },
  {
   "cell_type": "code",
   "execution_count": 5,
   "metadata": {},
   "outputs": [
    {
     "name": "stdout",
     "output_type": "stream",
     "text": [
      "KEYSPACE sparkify_cassandra_db is Ready to use\n"
     ]
    }
   ],
   "source": [
    "# Create a KEYSPACE\n",
    "try:\n",
    "    session.execute(\"\"\"\n",
    "        CREATE KEYSPACE IF NOT EXISTS sparkify_cassandra_db\n",
    "        WITH REPLICATION = \n",
    "        {'class' : 'SimpleStrategy', 'replication_factor': 1}\n",
    "    \"\"\")\n",
    "    print(\"KEYSPACE sparkify_cassandra_db is Ready to use\")\n",
    "except Exception as e:\n",
    "    print (e)"
   ]
  },
  {
   "cell_type": "code",
   "execution_count": 6,
   "metadata": {},
   "outputs": [
    {
     "name": "stdout",
     "output_type": "stream",
     "text": [
      "session of sparkify_cassandra_db is ready\n"
     ]
    }
   ],
   "source": [
    "# Set KEYSPACE to the keyspace specified above\n",
    "try:\n",
    "    session.set_keyspace('sparkify_cassandra_db')\n",
    "    print(\"session of sparkify_cassandra_db is ready\")\n",
    "except Exception as e:\n",
    "    print(e)"
   ]
  },
  {
   "cell_type": "markdown",
   "metadata": {},
   "source": []
  },
  {
   "cell_type": "markdown",
   "metadata": {},
   "source": [
    "## Create queries to ask the following three questions of the data\n",
    "\n",
    "### 1. Give me the artist, song title and song's length in the music app history that was heard during  sessionId = 338, and itemInSession  = 4\n",
    "\n",
    "\n",
    "### 2. Give me only the following: name of artist, song (sorted by itemInSession) and user (first and last name) for userid = 10, sessionid = 182\n",
    "    \n",
    "\n",
    "### 3. Give me every user name (first and last) in my music app history who listened to the song 'All Hands Against His Own'\n",
    "\n",
    "\n"
   ]
  },
  {
   "cell_type": "code",
   "execution_count": null,
   "metadata": {},
   "outputs": [],
   "source": []
  },
  {
   "cell_type": "markdown",
   "metadata": {},
   "source": [
    "### Question 1: \n",
    "#### Give me the artist, song title and song's length in the music app history\n",
    "#### that was heard during sessionId = 338, and itemInSession = 4\n",
    "\n",
    "### Query Description: \n",
    "###### In this query, I used 'sessionId' as the partition key and 'itemInSession' as my clustering key.\n",
    "###### Each partition is uniquely identified by 'sessionId' \n",
    "###### while 'itemInSession' was used to uniquely identify the rows within a partition to sort the data by the value of 'itemInSession'."
   ]
  },
  {
   "cell_type": "code",
   "execution_count": 7,
   "metadata": {},
   "outputs": [
    {
     "name": "stdout",
     "output_type": "stream",
     "text": [
      "Table 'music_app_hist_by_session_item' is created\n"
     ]
    }
   ],
   "source": [
    "# Question 1. (CREATE TABLE)\n",
    "\n",
    "try:\n",
    "    drop_table = \"DROP TABLE IF EXISTS music_app_hist_by_session_item\"\n",
    "    session.execute(drop_table)\n",
    "    create_table = \"\"\"\n",
    "        CREATE TABLE IF NOT EXISTS music_app_hist_by_session_item (\n",
    "            sessionId int,\n",
    "            itemInSession int,\n",
    "            artist text,\n",
    "            length float,\n",
    "            songTitle text,\n",
    "            PRIMARY KEY(sessionId, itemInSession)\n",
    "        )\n",
    "        \"\"\"\n",
    "    session.execute(create_table)\n",
    "    print(\"Table 'music_app_hist_by_session_item' is created\")\n",
    "except Exception as e:\n",
    "    print(e)\n",
    "\n",
    "                    "
   ]
  },
  {
   "cell_type": "code",
   "execution_count": 8,
   "metadata": {},
   "outputs": [
    {
     "name": "stdout",
     "output_type": "stream",
     "text": [
      "song info is inserted into 'music_app_hist_by_session_item'\n"
     ]
    }
   ],
   "source": [
    "# Question 1. (Insert Data)\n",
    "# Parse the csv file and insert the data to the table\n",
    "file = 'event_datafile_new.csv'\n",
    "\n",
    "try:\n",
    "    with open(file, encoding = 'utf8') as f:\n",
    "        csvreader = csv.reader(f)\n",
    "        next(csvreader) # skip header\n",
    "        for line in csvreader:\n",
    "            query = \"INSERT INTO music_app_hist_by_session_item (sessionId, itemInSession, artist, length, songTitle)\"\n",
    "            query = query + \"VALUES(%s, %s, %s, %s, %s)\"\n",
    "            session.execute(query, (int(line[8]), int(line[3]), line[0], float(line[5]), line[9]))\n",
    "    print(\"song info is inserted into 'music_app_hist_by_session_item'\")\n",
    "except Exception as e:\n",
    "    print(e)"
   ]
  },
  {
   "cell_type": "markdown",
   "metadata": {},
   "source": [
    "#### Do a SELECT to verify that the data have been inserted into each table"
   ]
  },
  {
   "cell_type": "code",
   "execution_count": 9,
   "metadata": {
    "scrolled": true
   },
   "outputs": [
    {
     "name": "stdout",
     "output_type": "stream",
     "text": [
      "+-------------+---------------------------------+--------------------+\n",
      "| Artist Name |            Song Title           |    Song Length     |\n",
      "+-------------+---------------------------------+--------------------+\n",
      "|  Faithless  | Music Matters (Mark Knight Dub) | 495.30731201171875 |\n",
      "+-------------+---------------------------------+--------------------+\n"
     ]
    }
   ],
   "source": [
    "# Question 1. (Query Data)\n",
    "# Query the data from the table and print to verify\n",
    "\n",
    "# query = \"SELECT artist, songTitle, length from music_app_hist_by_session_item WHERE sessionId = 338 and itemInSession = 4\"\n",
    "query = \"SELECT artist, songTitle, length from music_app_hist_by_session_item WHERE sessionId = %s and itemInSession = %s\"\n",
    "prettyPrint = PrettyTable()\n",
    "prettyPrint.field_names = [\"Artist Name\", \"Song Title\", \"Song Length\"]\n",
    "try:\n",
    "#     rows = session.execute(query)\n",
    "    rows = session.execute(query, (338, 4, ))\n",
    "    for row in rows:\n",
    "        #print(row)\n",
    "        prettyPrint.add_row([row.artist, row.songtitle, row.length])\n",
    "        #print (row.artist, row.songtitle, row.length)\n",
    "    print(prettyPrint)\n",
    "except Exception as e:\n",
    "    print(e)"
   ]
  },
  {
   "cell_type": "markdown",
   "metadata": {},
   "source": [
    "### Question 2: \n",
    "####     Give me only the following: \n",
    "####     name of artist, song (sorted by itemInSession) and user (first and last name)\n",
    "####     for userid = 10, sessionid = 182\n",
    "\n",
    "\n",
    "### Query Description: \n",
    "######     In this query, I used '*userid*' and '*sessionId*' as the composite partition key for performance issue\n",
    "######     and '*itemInSession*' as the clustering key so that result would be sorted by it.\n",
    "######     Each partition is uniquely identified by *itemInSession* while itemInSession was used to uniquely identify the rows within a partition to sort the data by the value of *itemInSession*."
   ]
  },
  {
   "cell_type": "code",
   "execution_count": 34,
   "metadata": {},
   "outputs": [
    {
     "name": "stdout",
     "output_type": "stream",
     "text": [
      "Step 1: Table 'song_list_by_user_session' is created\n",
      "Step 2: Inserting 'song_list_by_user_session'...\n",
      "Step 2: song info is inserted into 'song_list_by_user_session'\n",
      "Step 3: Query and Verify data in 'song_list_by_user_session'\n",
      "+-------------------+------------------------------------------------------+------------+-----------+\n",
      "|    Artist Name    |                      Song Title                      | First Name | Last Name |\n",
      "+-------------------+------------------------------------------------------+------------+-----------+\n",
      "|  Down To The Bone |                  Keep On Keepin' On                  |   Sylvie   |    Cruz   |\n",
      "|    Three Drives   |                     Greece 2000                      |   Sylvie   |    Cruz   |\n",
      "| Sebastien Tellier |                      Kilometer                       |   Sylvie   |    Cruz   |\n",
      "|   Lonnie Gordon   | Catch You Baby (Steve Pitron & Max Sanna Radio Edit) |   Sylvie   |    Cruz   |\n",
      "+-------------------+------------------------------------------------------+------------+-----------+\n"
     ]
    }
   ],
   "source": [
    "# Question 2\n",
    "\n",
    "# Step 1: Drop and Create Table\n",
    "try:\n",
    "    drop_table = \"DROP TABLE IF EXISTS song_list_by_user_session\"\n",
    "    session.execute(drop_table)\n",
    "    create_table = \"\"\"\n",
    "        CREATE TABLE IF NOT EXISTS song_list_by_user_session (\n",
    "            userId int,\n",
    "            sessionId int,\n",
    "            itemInSession int,\n",
    "            artist text,\n",
    "            firstName text,\n",
    "            lastName text,\n",
    "            songTitle text,\n",
    "            PRIMARY KEY((userid, sessionId), itemInSession)\n",
    "        )\n",
    "        \"\"\"\n",
    "    session.execute(create_table)\n",
    "    print(\"Step 1: Table 'song_list_by_user_session' is created\")\n",
    "except Exception as e:\n",
    "    print(e)\n",
    "\n",
    "# Step 2: Insert INTO TABLE\n",
    "file = 'event_datafile_new.csv'\n",
    "\n",
    "try:\n",
    "    with open(file, encoding = 'utf8') as f:\n",
    "        csvreader = csv.reader(f)\n",
    "        next(csvreader) # skip header\n",
    "        print(\"Step 2: Inserting 'song_list_by_user_session'...\")\n",
    "        for line in csvreader:\n",
    "            ## Assign the INSERT statements into the `query` variable\n",
    "            query = \"INSERT INTO song_list_by_user_session (userId, sessionId, itemInSession, artist, firstName, lastName, songTitle)\"\n",
    "            query = query + \"VALUES(%s, %s, %s, %s, %s, %s, %s)\"\n",
    "            session.execute(query, (int(line[10]), int(line[8]), int(line[3]), line[0], line[1], line[4], line[9]))\n",
    "        print(\"Step 2: song info is inserted into 'song_list_by_user_session'\")\n",
    "except Exception as e:\n",
    "    print(e)\n",
    "\n",
    "# Step 3: Execute Select Statement\n",
    "try:\n",
    "    print(\"Step 3: Query and Verify data in 'song_list_by_user_session'\")\n",
    "    query = \"SELECT artist, songTitle, firstName, lastName from song_list_by_user_session WHERE userid = %s and sessionid = %s;\"\n",
    "    prettyPrint = PrettyTable()\n",
    "    prettyPrint.field_names = [\"Artist Name\", \"Song Title\", \"First Name\", \"Last Name\"]\n",
    "    rows = session.execute(query, (10, 182, ))\n",
    "    for row in rows:\n",
    "        #print (row.artist, row.songtitle, row.firstname, row.lastname)\n",
    "        prettyPrint.add_row([row.artist, row.songtitle, row.firstname, row.lastname])\n",
    "    print(prettyPrint)\n",
    "except Exception as e:\n",
    "    print(e)"
   ]
  },
  {
   "cell_type": "markdown",
   "metadata": {},
   "source": [
    "### Question 3: \n",
    "#### Give me every user name (first and last) in my music app history\n",
    "#### who listened to the song 'All Hands Against His Own'\n",
    "\n",
    "### Query Description: \n",
    "###### In this query, I used *'songTitle'* as the partition key and '*user_id*' as my clustering key.\n",
    "###### Each partition is uniquely identified by '*songTitle*' \n",
    "###### while '*user_id*' was used to uniquely identify the rows within a partition to sort the data by the value of '*user_id*'."
   ]
  },
  {
   "cell_type": "code",
   "execution_count": 42,
   "metadata": {},
   "outputs": [
    {
     "name": "stdout",
     "output_type": "stream",
     "text": [
      "Step 1: Table 'user_list_by_song_title' is created\n",
      "Step 2: Inserting 'user_list_by_song_title'...\n",
      "Step 2: user info is inserted into 'user_list_by_song_title'\n",
      "Step 3: Query and Verify data in 'user_list_by_song_title'\n",
      "+------------+-----------+\n",
      "| First Name | Last Name |\n",
      "+------------+-----------+\n",
      "| Jacqueline |   Lynch   |\n",
      "|   Tegan    |   Levine  |\n",
      "|    Sara    |  Johnson  |\n",
      "+------------+-----------+\n"
     ]
    }
   ],
   "source": [
    "\n",
    "# Step 1: CREATE TABLE\n",
    "try:\n",
    "    drop_table = \"DROP TABLE IF EXISTS user_list_by_song_title\"\n",
    "    session.execute(drop_table)\n",
    "    create_table = \"\"\"\n",
    "        CREATE TABLE IF NOT EXISTS user_list_by_song_title (\n",
    "            songTitle text,\n",
    "            user_id int, \n",
    "            firstName text,\n",
    "            lastName text,\n",
    "            PRIMARY KEY ((songTitle), user_id)\n",
    "        )\n",
    "        \"\"\"\n",
    "    session.execute(create_table)\n",
    "    print(\"Step 1: Table 'user_list_by_song_title' is created\")\n",
    "except Exception as e:\n",
    "    print(e)\n",
    "\n",
    "# Step 2: Insert INTO TABLE\n",
    "file = 'event_datafile_new.csv'\n",
    "\n",
    "try:\n",
    "    with open(file, encoding = 'utf8') as f:\n",
    "        csvreader = csv.reader(f)\n",
    "        next(csvreader) # skip header\n",
    "        print(\"Step 2: Inserting 'user_list_by_song_title'...\")\n",
    "        for line in csvreader:\n",
    "            ## Assign the INSERT statements into the `query` variable\n",
    "            query = \"INSERT INTO user_list_by_song_title (songTitle, user_id, firstName, lastName)\"\n",
    "            query = query + \"VALUES(%s, %s, %s, %s)\"\n",
    "            session.execute(query, (line[9], int(line[10]), line[1], line[4]))\n",
    "        print(\"Step 2: user info is inserted into 'user_list_by_song_title'\")\n",
    "except Exception as e:\n",
    "    print(e)\n",
    "\n",
    "# Step 3: Execute Select Statement\n",
    "try:\n",
    "    print(\"Step 3: Query and Verify data in 'user_list_by_song_title'\")\n",
    "    query = \"SELECT firstName, lastName from user_list_by_song_title WHERE songtitle = %s\"\n",
    "    prettyPrint = PrettyTable()\n",
    "    prettyPrint.field_names = [\"First Name\", \"Last Name\"]\n",
    "    rows = session.execute(query, ('All Hands Against His Own', ))\n",
    "    for row in rows:\n",
    "        #print (row.firstname, row.lastname)\n",
    "        prettyPrint.add_row([row.firstname, row.lastname])\n",
    "    print(prettyPrint)\n",
    "except Exception as e:\n",
    "    print(e)"
   ]
  },
  {
   "cell_type": "code",
   "execution_count": null,
   "metadata": {},
   "outputs": [],
   "source": []
  },
  {
   "cell_type": "markdown",
   "metadata": {},
   "source": [
    "### Drop the tables before closing out the sessions"
   ]
  },
  {
   "cell_type": "code",
   "execution_count": 14,
   "metadata": {},
   "outputs": [],
   "source": [
    "# Drop the table before closing out the sessions\n",
    "\n",
    "try:\n",
    "    drop_applist = \"DROP TABLE IF EXISTS music_app_hist_by_session_item\"\n",
    "    session.execute(drop_applist)\n",
    "    print(\"DROP TABLE music_app_hist_by_session_item\")\n",
    "\n",
    "    drop_songlist = \"DROP TABLE IF EXISTS song_list_by_user_session\"\n",
    "    session.execute(drop_songlist)\n",
    "    print(\"DROP TABLE song_list_by_user_session\")\n",
    "    \n",
    "    drop_userlist = \"DROP TABLE IF EXISTS user_list_by_song_title\"\n",
    "    session.execute(drop_userlist)\n",
    "    print(\"DROP TABLE user_list_by_song_title\")\n",
    "except Exception as e:\n",
    "    print(e)"
   ]
  },
  {
   "cell_type": "code",
   "execution_count": null,
   "metadata": {},
   "outputs": [],
   "source": [
    "# Drop keyspace\n",
    "try:\n",
    "    drop_keyspace = \"DROP KEYSPACE IF EXISTS sparkify_cassandra_db\"\n",
    "    session.execute(drop_keyspace)\n",
    "    print(\"KEYSPACE sparkify_cassandra_db is DROPPED\")\n",
    "except Exception as e:\n",
    "    print(e)"
   ]
  },
  {
   "cell_type": "markdown",
   "metadata": {},
   "source": [
    "### Close the session and cluster connection¶"
   ]
  },
  {
   "cell_type": "code",
   "execution_count": 15,
   "metadata": {},
   "outputs": [],
   "source": [
    "session.shutdown()\n",
    "cluster.shutdown()"
   ]
  },
  {
   "cell_type": "code",
   "execution_count": null,
   "metadata": {},
   "outputs": [],
   "source": []
  },
  {
   "cell_type": "code",
   "execution_count": null,
   "metadata": {},
   "outputs": [],
   "source": []
  }
 ],
 "metadata": {
  "kernelspec": {
   "display_name": "Python 3",
   "language": "python",
   "name": "python3"
  },
  "language_info": {
   "codemirror_mode": {
    "name": "ipython",
    "version": 3
   },
   "file_extension": ".py",
   "mimetype": "text/x-python",
   "name": "python",
   "nbconvert_exporter": "python",
   "pygments_lexer": "ipython3",
   "version": "3.6.3"
  }
 },
 "nbformat": 4,
 "nbformat_minor": 4
}
